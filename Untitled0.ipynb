{
  "nbformat": 4,
  "nbformat_minor": 0,
  "metadata": {
    "colab": {
      "provenance": [],
      "authorship_tag": "ABX9TyN2F8kWLr+VrJ4m7BZsdnaB",
      "include_colab_link": true
    },
    "kernelspec": {
      "name": "python3",
      "display_name": "Python 3"
    },
    "language_info": {
      "name": "python"
    }
  },
  "cells": [
    {
      "cell_type": "markdown",
      "metadata": {
        "id": "view-in-github",
        "colab_type": "text"
      },
      "source": [
        "<a href=\"https://colab.research.google.com/github/mcitarella/capita/blob/master/Untitled0.ipynb\" target=\"_parent\"><img src=\"https://colab.research.google.com/assets/colab-badge.svg\" alt=\"Open In Colab\"/></a>"
      ]
    },
    {
      "cell_type": "code",
      "execution_count": null,
      "metadata": {
        "id": "URbG5UdYMuzH"
      },
      "outputs": [],
      "source": []
    },
    {
      "cell_type": "code",
      "execution_count": 1,
      "metadata": {
        "id": "0trJmd6DjqBZ",
        "colab": {
          "base_uri": "https://localhost:8080/"
        },
        "outputId": "35689536-4479-4f4f-8453-5a2e765663e5"
      },
      "outputs": [
        {
          "output_type": "stream",
          "name": "stdout",
          "text": [
            "TensorFlow version: 2.15.0\n"
          ]
        }
      ],
      "source": []
    },
    {
      "cell_type": "code",
      "execution_count": 3,
      "metadata": {
        "id": "7FP5258xjs-v"
      },
      "outputs": [],
      "source": [
        "mnist = tf.keras.datasets.mnist\n",
        "\n",
        "(x_train, y_train), (x_test, y_test) = mnist.load_data()\n",
        "x_train, x_test = x_train / 255.0, x_test / 255.0"
      ]
    },
    {
      "cell_type": "code",
      "execution_count": 4,
      "metadata": {
        "id": "h3IKyzTCDNGo"
      },
      "outputs": [],
      "source": [
        "model = tf.keras.models.Sequential([\n",
        "  tf.keras.layers.Flatten(input_shape=(28, 28)),\n",
        "  tf.keras.layers.Dense(128, activation='relu'),\n",
        "  tf.keras.layers.Dropout(0.2),\n",
        "  tf.keras.layers.Dense(10)\n",
        "])"
      ]
    },
    {
      "cell_type": "code",
      "execution_count": 5,
      "metadata": {
        "id": "OeOrNdnkEEcR",
        "colab": {
          "base_uri": "https://localhost:8080/"
        },
        "outputId": "dab17a93-77bb-4abd-92bf-877b19c687c7"
      },
      "outputs": [
        {
          "output_type": "execute_result",
          "data": {
            "text/plain": [
              "array([[ 0.20266034,  0.11577247,  0.02009527, -0.09945205, -0.39366686,\n",
              "        -0.23070759,  0.6375429 , -0.3292064 , -0.1990345 ,  0.10065529]],\n",
              "      dtype=float32)"
            ]
          },
          "metadata": {},
          "execution_count": 5
        }
      ],
      "source": []
    },
    {
      "cell_type": "code",
      "execution_count": 6,
      "metadata": {
        "id": "zWSRnQ0WI5eq",
        "colab": {
          "base_uri": "https://localhost:8080/"
        },
        "outputId": "421b8018-0b2f-477f-b558-92f415731785"
      },
      "outputs": [
        {
          "output_type": "execute_result",
          "data": {
            "text/plain": [
              "array([[0.1191495 , 0.10923386, 0.09926707, 0.08808186, 0.06563124,\n",
              "        0.07724723, 0.18405996, 0.07000119, 0.07973305, 0.10759497]],\n",
              "      dtype=float32)"
            ]
          },
          "metadata": {},
          "execution_count": 6
        }
      ],
      "source": []
    },
    {
      "cell_type": "code",
      "execution_count": 9,
      "metadata": {
        "id": "RSkzdv8MD0tT",
        "colab": {
          "base_uri": "https://localhost:8080/"
        },
        "outputId": "5356becb-69e8-4219-f023-31a91cb64303"
      },
      "outputs": [
        {
          "output_type": "execute_result",
          "data": {
            "text/plain": [
              "2.5607443"
            ]
          },
          "metadata": {},
          "execution_count": 9
        }
      ],
      "source": [
        "loss_fn(y_train[:1], predictions).numpy()"
      ]
    },
    {
      "cell_type": "code",
      "execution_count": 15,
      "metadata": {
        "id": "9foNKHzTD2Vo",
        "colab": {
          "base_uri": "https://localhost:8080/"
        },
        "outputId": "4c10d172-eac5-4e6e-b41e-24eb9ca8c98f"
      },
      "outputs": [
        {
          "output_type": "execute_result",
          "data": {
            "text/plain": [
              "<tf.Tensor: shape=(5, 10), dtype=float32, numpy=\n",
              "array([[2.4858848e-10, 1.9102958e-10, 7.7316244e-08, 3.3360971e-05,\n",
              "        6.2143751e-18, 1.0723507e-08, 7.1519618e-19, 9.9996626e-01,\n",
              "        1.5770601e-09, 1.9284015e-07],\n",
              "       [5.4248220e-12, 2.1218309e-05, 9.9997783e-01, 9.2917503e-07,\n",
              "        1.1716748e-27, 2.1572770e-12, 1.9514064e-13, 2.8893551e-20,\n",
              "        5.0935640e-12, 2.2872379e-20],\n",
              "       [1.2698885e-10, 9.9986517e-01, 7.9117826e-06, 1.6294896e-07,\n",
              "        8.6961254e-06, 2.0355996e-07, 5.2606215e-06, 3.3676151e-05,\n",
              "        7.8930061e-05, 4.2069539e-09],\n",
              "       [9.9999964e-01, 2.3442355e-14, 2.4804703e-07, 7.3731837e-12,\n",
              "        6.1083361e-14, 5.0888271e-09, 5.2197624e-08, 8.2059819e-12,\n",
              "        1.9873499e-14, 5.3420390e-11],\n",
              "       [1.6203561e-09, 9.8072808e-18, 9.0949461e-09, 1.2640774e-11,\n",
              "        9.9996161e-01, 2.8095803e-11, 6.8056307e-09, 1.2790464e-05,\n",
              "        2.4817895e-10, 2.5583064e-05]], dtype=float32)>"
            ]
          },
          "metadata": {},
          "execution_count": 15
        }
      ],
      "source": [
        "probability_model(x_test[:5])"
      ]
    },
    {
      "cell_type": "code",
      "source": [],
      "metadata": {
        "id": "hi3iaUY3PbrA"
      },
      "execution_count": null,
      "outputs": []
    },
    {
      "cell_type": "markdown",
      "source": [
        "Show me what was done"
      ],
      "metadata": {
        "id": "AhoCjkiRPc8u"
      }
    }
  ]
}